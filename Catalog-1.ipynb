{
 "cells": [
  {
   "cell_type": "code",
   "execution_count": 0,
   "metadata": {
    "application/vnd.databricks.v1+cell": {
     "cellMetadata": {
      "byteLimit": 2048000,
      "rowLimit": 10000
     },
     "inputWidgets": {},
     "nuid": "e9cffbe5-f81e-4ace-a04e-03372dd3ec78",
     "showTitle": false,
     "tableResultSettingsMap": {},
     "title": ""
    }
   },
   "outputs": [],
   "source": [
    "create database broze;"
   ]
  },
  {
   "cell_type": "code",
   "execution_count": 0,
   "metadata": {
    "application/vnd.databricks.v1+cell": {
     "cellMetadata": {
      "byteLimit": 2048000,
      "rowLimit": 10000
     },
     "inputWidgets": {},
     "nuid": "ae2e8c35-2905-41fa-b183-0ee05de09acf",
     "showTitle": false,
     "tableResultSettingsMap": {},
     "title": ""
    }
   },
   "outputs": [],
   "source": [
    "CREATE TABLE broze.employee (\n",
    "    employee_id STRING,\n",
    "    department_id STRING,\n",
    "    name STRING,\n",
    "    age STRING,\n",
    "    gender STRING,\n",
    "    salary DOUBLE,\n",
    "    hire_date DATE\n",
    ");\n"
   ]
  },
  {
   "cell_type": "code",
   "execution_count": 0,
   "metadata": {
    "application/vnd.databricks.v1+cell": {
     "cellMetadata": {
      "byteLimit": 2048000,
      "rowLimit": 10000
     },
     "inputWidgets": {},
     "nuid": "4d74a56b-c7a5-4d8b-9f0e-97f6bee17081",
     "showTitle": false,
     "tableResultSettingsMap": {},
     "title": ""
    }
   },
   "outputs": [],
   "source": [
    "INSERT INTO broze.employee VALUES\n",
    "('001', '101', 'John Doe', '30', 'Male', 50000, '2015-01-01'),\n",
    "('002', '101', 'Jane Smith', '25', 'Female', 45000, '2016-02-15'),\n",
    "('003', '102', 'Bob Brown', '35', 'Male', 55000, '2014-05-01'),\n",
    "('004', '102', 'Alice Lee', '28', 'Female', 48000, '2017-09-30'),\n",
    "('005', '103', 'Jack Chan', '40', 'Male', 60000, '2013-04-01'),\n",
    "('006', '103', 'Jill Wong', '32', 'Female', 52000, '2018-07-01'),\n",
    "('007', '101', 'James Johnson', '42', 'Male', 70000, '2012-03-15'),\n",
    "('008', '102', 'Kate Kim', '29', 'Female', 51000, '2019-10-01'),\n",
    "('009', '103', 'Tom Tan', '33', 'Male', 58000, '2016-06-01'),\n",
    "('010', '104', 'Lisa Lee', '27', 'Female', 47000, '2018-08-01'),\n",
    "('011', '104', 'David Park', '38', 'Male', 65000, '2015-11-01'),\n",
    "('012', '105', 'Susan Chen', '31', 'Female', 54000, '2017-02-15'),\n",
    "('013', '106', 'Brian Kim', '45', 'Male', 75000, '2011-07-01'),\n",
    "('014', '107', 'Emily Lee', '26', 'Female', 46000, '2019-01-01'),\n",
    "('015', '106', 'Michael Lee', '37', 'Male', 63000, '2014-09-30'),\n",
    "('016', '107', 'Kelly Zhang', '30', 'Female', 49000, '2018-04-01'),\n",
    "('017', '105', 'George Wang', '34', 'Male', 57000, '2016-03-15'),\n",
    "('018', '104', 'Nancy Liu', '29', 'Female', 50000, '2017-06-01'),\n",
    "('019', '103', 'Steven Chen', '36', 'Male', 62000, '2015-08-01'),\n",
    "('020', '102', 'Grace Kim', '32', 'Female', 53000, '2018-11-01');\n"
   ]
  },
  {
   "cell_type": "code",
   "execution_count": 0,
   "metadata": {
    "application/vnd.databricks.v1+cell": {
     "cellMetadata": {
      "byteLimit": 2048000,
      "rowLimit": 10000
     },
     "inputWidgets": {},
     "nuid": "fb8bfd95-64f4-435c-9d13-26b7b4940c8f",
     "showTitle": false,
     "tableResultSettingsMap": {},
     "title": ""
    }
   },
   "outputs": [],
   "source": [
    "select *\n",
    "from bronze.employee;"
   ]
  },
  {
   "cell_type": "code",
   "execution_count": 0,
   "metadata": {
    "application/vnd.databricks.v1+cell": {
     "cellMetadata": {
      "byteLimit": 2048000,
      "rowLimit": 10000
     },
     "inputWidgets": {},
     "nuid": "83e95843-2f99-42c4-9bf5-cbdfc273d28f",
     "showTitle": false,
     "tableResultSettingsMap": {},
     "title": ""
    }
   },
   "outputs": [],
   "source": [
    "describe extended bronze.employee;"
   ]
  },
  {
   "cell_type": "code",
   "execution_count": 0,
   "metadata": {
    "application/vnd.databricks.v1+cell": {
     "cellMetadata": {
      "byteLimit": 2048000,
      "rowLimit": 10000
     },
     "inputWidgets": {},
     "nuid": "4863840d-9ed6-4cb7-aec4-f3746ec09496",
     "showTitle": false,
     "tableResultSettingsMap": {},
     "title": ""
    }
   },
   "outputs": [],
   "source": [
    "INSERT INTO bronze.employee VALUES\n",
    "('021', '108', 'Olivia Scott', '29', 'Female', 52000, '2020-05-15'),\n",
    "('022', '109', 'Ethan Carter', '35', 'Male', 58000, '2017-08-21'),\n",
    "('023', '110', 'Sophia Wilson', '31', 'Female', 55000, '2019-11-30');\n"
   ]
  },
  {
   "cell_type": "code",
   "execution_count": 0,
   "metadata": {
    "application/vnd.databricks.v1+cell": {
     "cellMetadata": {
      "byteLimit": 2048000,
      "rowLimit": 10000
     },
     "inputWidgets": {},
     "nuid": "2f8b55ff-fdde-4086-8d04-90ce00350712",
     "showTitle": false,
     "tableResultSettingsMap": {},
     "title": ""
    }
   },
   "outputs": [],
   "source": [
    "select *\n",
    "from bronze.employee;"
   ]
  },
  {
   "cell_type": "code",
   "execution_count": 0,
   "metadata": {
    "application/vnd.databricks.v1+cell": {
     "cellMetadata": {
      "byteLimit": 2048000,
      "rowLimit": 10000
     },
     "inputWidgets": {},
     "nuid": "b6ed743e-cea4-4080-8ab1-85aeb2f5c8ec",
     "showTitle": false,
     "tableResultSettingsMap": {},
     "title": ""
    }
   },
   "outputs": [],
   "source": [
    "%python\n",
    "\n",
    "dbutils.fs.ls('dbfs:/user/hive/warehouse/bronze.db/employee')"
   ]
  },
  {
   "cell_type": "code",
   "execution_count": 0,
   "metadata": {
    "application/vnd.databricks.v1+cell": {
     "cellMetadata": {
      "byteLimit": 2048000,
      "rowLimit": 10000
     },
     "inputWidgets": {},
     "nuid": "0afc1823-9a30-4315-bbe0-5cf09bcfc77b",
     "showTitle": false,
     "tableResultSettingsMap": {},
     "title": ""
    }
   },
   "outputs": [],
   "source": [
    "%python\n",
    "#Accesing the data from the Data Lake (Azure Blob Storage)\n",
    "app_id = \"44cf4ccc-66c5-4df6-831a-e723b1773564\"\n",
    "tenant_id = \"92095919-bb45-4816-b0dd-fa8065b00b0a\""
   ]
  },
  {
   "cell_type": "code",
   "execution_count": 0,
   "metadata": {
    "application/vnd.databricks.v1+cell": {
     "cellMetadata": {
      "byteLimit": 2048000,
      "rowLimit": 10000
     },
     "inputWidgets": {},
     "nuid": "5147eee0-c89a-4619-b802-eeca5708f4a3",
     "showTitle": false,
     "tableResultSettingsMap": {},
     "title": ""
    }
   },
   "outputs": [],
   "source": [
    "%python\n",
    "secret = dbutils.secrets.get(scope = \"gopinathscope\", key='app-secrete')"
   ]
  },
  {
   "cell_type": "code",
   "execution_count": 0,
   "metadata": {
    "application/vnd.databricks.v1+cell": {
     "cellMetadata": {
      "byteLimit": 2048000,
      "rowLimit": 10000
     },
     "inputWidgets": {},
     "nuid": "168557a0-48f9-4209-942b-91bf39c9b847",
     "showTitle": false,
     "tableResultSettingsMap": {},
     "title": ""
    }
   },
   "outputs": [],
   "source": [
    "%python\n",
    "spark.conf.set(\"fs.azure.account.auth.type.gopinathstorage.dfs.core.windows.net\", \"OAuth\")\n",
    "spark.conf.set(\"fs.azure.account.oauth.provider.type.gopinathstorage.dfs.core.windows.net\", \"org.apache.hadoop.fs.azurebfs.oauth2.ClientCredsTokenProvider\")\n",
    "spark.conf.set(\"fs.azure.account.oauth2.client.id.gopinathstorage.dfs.core.windows.net\", \"44cf4ccc-66c5-4df6-831a-e723b1773564\")\n",
    "spark.conf.set(\"fs.azure.account.oauth2.client.secret.gopinathstorage.dfs.core.windows.net\", secret)\n",
    "spark.conf.set(\"fs.azure.account.oauth2.client.endpoint.gopinathstorage.dfs.core.windows.net\", \"https://login.microsoftonline.com/92095919-bb45-4816-b0dd-fa8065b00b0a/oauth2/token\")"
   ]
  },
  {
   "cell_type": "code",
   "execution_count": 0,
   "metadata": {
    "application/vnd.databricks.v1+cell": {
     "cellMetadata": {
      "byteLimit": 2048000,
      "rowLimit": 10000
     },
     "inputWidgets": {},
     "nuid": "8be75739-7f78-4826-9df7-a427b3c9801e",
     "showTitle": false,
     "tableResultSettingsMap": {},
     "title": ""
    }
   },
   "outputs": [],
   "source": [
    "describe extended salesdb.external_sales;"
   ]
  },
  {
   "cell_type": "code",
   "execution_count": 0,
   "metadata": {
    "application/vnd.databricks.v1+cell": {
     "cellMetadata": {
      "byteLimit": 2048000,
      "rowLimit": 10000
     },
     "inputWidgets": {},
     "nuid": "d8585391-3b6e-4ac5-85b6-2563ed8d0da9",
     "showTitle": false,
     "tableResultSettingsMap": {},
     "title": ""
    }
   },
   "outputs": [],
   "source": [
    "CREATE TABLE bronze.employee_ext (\n",
    "    employee_id STRING,\n",
    "    department_id STRING,\n",
    "    name STRING,\n",
    "    age STRING,\n",
    "    gender STRING,\n",
    "    salary DOUBLE,\n",
    "    hire_date DATE,\n",
    "    table_type STRING\n",
    ")\n",
    "\n",
    "location 'dbfs:/user/hive/warehouse/bronze.db/ext_employee';"
   ]
  },
  {
   "cell_type": "code",
   "execution_count": 0,
   "metadata": {
    "application/vnd.databricks.v1+cell": {
     "cellMetadata": {
      "byteLimit": 2048000,
      "rowLimit": 10000
     },
     "inputWidgets": {},
     "nuid": "e3d9e338-591e-4415-97d0-3fad030ce6ac",
     "showTitle": false,
     "tableResultSettingsMap": {},
     "title": ""
    }
   },
   "outputs": [],
   "source": [
    "insert into bronze.employee_ext select *, 'external' as table_type from bronze.employee;"
   ]
  },
  {
   "cell_type": "code",
   "execution_count": 0,
   "metadata": {
    "application/vnd.databricks.v1+cell": {
     "cellMetadata": {
      "byteLimit": 2048000,
      "rowLimit": 10000
     },
     "inputWidgets": {},
     "nuid": "62b6ae59-b708-4fae-a55b-c143d2b49265",
     "showTitle": false,
     "tableResultSettingsMap": {},
     "title": ""
    }
   },
   "outputs": [],
   "source": [
    "select *\n",
    "from bronze.employee_ext order by employee_id;"
   ]
  },
  {
   "cell_type": "code",
   "execution_count": 0,
   "metadata": {
    "application/vnd.databricks.v1+cell": {
     "cellMetadata": {
      "byteLimit": 2048000,
      "rowLimit": 10000
     },
     "inputWidgets": {},
     "nuid": "ee25db93-aa8f-4208-a227-ee5518a45c41",
     "showTitle": false,
     "tableResultSettingsMap": {},
     "title": ""
    }
   },
   "outputs": [],
   "source": [
    "describe extended bronze.employee_ext;"
   ]
  },
  {
   "cell_type": "code",
   "execution_count": 0,
   "metadata": {
    "application/vnd.databricks.v1+cell": {
     "cellMetadata": {
      "byteLimit": 2048000,
      "rowLimit": 10000
     },
     "inputWidgets": {},
     "nuid": "00db7794-ee9f-45e4-b073-a340bdcc6d65",
     "showTitle": false,
     "tableResultSettingsMap": {},
     "title": ""
    }
   },
   "outputs": [],
   "source": [
    "drop view bronze.employee_ext_view;"
   ]
  },
  {
   "cell_type": "code",
   "execution_count": 0,
   "metadata": {
    "application/vnd.databricks.v1+cell": {
     "cellMetadata": {
      "byteLimit": 2048000,
      "rowLimit": 10000
     },
     "inputWidgets": {},
     "nuid": "94a8b967-d343-4f55-b971-14514ee2df02",
     "showTitle": false,
     "tableResultSettingsMap": {},
     "title": ""
    }
   },
   "outputs": [],
   "source": [
    "create view bronze.employee_ext_view as select * from bronze.employee_ext where\n",
    "gender = 'Female';"
   ]
  },
  {
   "cell_type": "code",
   "execution_count": 0,
   "metadata": {
    "application/vnd.databricks.v1+cell": {
     "cellMetadata": {
      "byteLimit": 2048000,
      "rowLimit": 10000
     },
     "inputWidgets": {},
     "nuid": "ef714939-9027-4ccf-b644-8135924235b5",
     "showTitle": false,
     "tableResultSettingsMap": {},
     "title": ""
    }
   },
   "outputs": [],
   "source": [
    "select * from bronze.employee_ext_view;"
   ]
  },
  {
   "cell_type": "code",
   "execution_count": 0,
   "metadata": {
    "application/vnd.databricks.v1+cell": {
     "cellMetadata": {
      "byteLimit": 2048000,
      "rowLimit": 10000
     },
     "inputWidgets": {},
     "nuid": "28de8c3d-5d2e-4a23-9003-fd33f4deaa2c",
     "showTitle": false,
     "tableResultSettingsMap": {},
     "title": ""
    }
   },
   "outputs": [],
   "source": [
    "describe extended bronze.employee_ext_view;"
   ]
  }
 ],
 "metadata": {
  "application/vnd.databricks.v1+notebook": {
   "computePreferences": null,
   "dashboards": [],
   "environmentMetadata": {
    "base_environment": "",
    "environment_version": "2"
   },
   "language": "sql",
   "notebookMetadata": {
    "pythonIndentUnit": 4
   },
   "notebookName": "Catalog-1",
   "widgets": {}
  },
  "language_info": {
   "name": "sql"
  }
 },
 "nbformat": 4,
 "nbformat_minor": 0
}
